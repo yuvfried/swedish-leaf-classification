{
 "cells": [
  {
   "cell_type": "code",
   "execution_count": 1,
   "metadata": {
    "ExecuteTime": {
     "end_time": "2022-01-18T22:26:45.054212Z",
     "start_time": "2022-01-18T22:26:43.178971Z"
    }
   },
   "outputs": [],
   "source": [
    "import pandas as pd\n",
    "import numpy as np\n",
    "import os\n",
    "import matplotlib.pyplot as plt\n",
    "import cv2 as cv\n",
    "\n",
    "from sklearn.model_selection import train_test_split\n",
    "from sklearn.decomposition import PCA\n",
    "\n",
    "from sklearn.preprocessing import StandardScaler\n",
    "from sklearn.linear_model import LogisticRegression\n",
    "from sklearn.model_selection import KFold, cross_val_score, cross_validate\n",
    "from sklearn.metrics import multilabel_confusion_matrix, ConfusionMatrixDisplay"
   ]
  },
  {
   "cell_type": "code",
   "execution_count": 2,
   "metadata": {
    "ExecuteTime": {
     "end_time": "2022-01-18T22:26:45.070211Z",
     "start_time": "2022-01-18T22:26:45.057214Z"
    }
   },
   "outputs": [],
   "source": [
    "DATAPATH = r\"C:\\Users\\yuvfr\\proj_university\\swedish-leaf-classification\\swedish-leaf-dataset\""
   ]
  },
  {
   "cell_type": "code",
   "execution_count": 3,
   "metadata": {
    "ExecuteTime": {
     "end_time": "2022-01-18T22:26:45.102210Z",
     "start_time": "2022-01-18T22:26:45.073213Z"
    }
   },
   "outputs": [],
   "source": [
    "IMG_SIZE = 224\n",
    "LEAF_CLASSES = (1, 3)\n",
    "leaf1, leaf2 = LEAF_CLASSES"
   ]
  },
  {
   "cell_type": "code",
   "execution_count": 4,
   "metadata": {
    "ExecuteTime": {
     "end_time": "2022-01-18T22:26:45.118213Z",
     "start_time": "2022-01-18T22:26:45.105213Z"
    }
   },
   "outputs": [],
   "source": [
    "def load_image(filename, height=IMG_SIZE, width=IMG_SIZE):\n",
    "    img = cv.imread(filename, cv.IMREAD_COLOR)\n",
    "    img = cv.cvtColor(img, cv.COLOR_BGR2RGB)\n",
    "    img = cv.resize(img, (height, width))\n",
    "    return img"
   ]
  },
  {
   "cell_type": "code",
   "execution_count": 5,
   "metadata": {
    "ExecuteTime": {
     "end_time": "2022-01-18T22:26:45.166212Z",
     "start_time": "2022-01-18T22:26:45.122215Z"
    }
   },
   "outputs": [],
   "source": [
    "def load_leaf_data(leaf, label):\n",
    "    leaf_path = os.path.join(DATAPATH,f\"leaf{leaf}\")\n",
    "    leaf_imgs_list = []\n",
    "\n",
    "    for img_fname in os.listdir(leaf_path):\n",
    "        leaf_imgs_list.append(load_image(os.path.join(leaf_path, img_fname)))\n",
    "    \n",
    "    data = np.stack(leaf_imgs_list)\n",
    "    label_arr = np.repeat(label, len(leaf_imgs_list)).reshape(-1,1)\n",
    "    return data, label_arr\n",
    "    "
   ]
  },
  {
   "cell_type": "code",
   "execution_count": 6,
   "metadata": {
    "ExecuteTime": {
     "end_time": "2022-01-18T22:26:48.038208Z",
     "start_time": "2022-01-18T22:26:45.172211Z"
    }
   },
   "outputs": [],
   "source": [
    "data1, label1 = load_leaf_data(leaf1, 0)\n",
    "data2, label2 = load_leaf_data(leaf2, 1)"
   ]
  },
  {
   "cell_type": "code",
   "execution_count": 7,
   "metadata": {
    "ExecuteTime": {
     "end_time": "2022-01-18T22:26:48.054217Z",
     "start_time": "2022-01-18T22:26:48.041216Z"
    }
   },
   "outputs": [],
   "source": [
    "TEST_SIZE = 0.15"
   ]
  },
  {
   "cell_type": "code",
   "execution_count": 8,
   "metadata": {
    "ExecuteTime": {
     "end_time": "2022-01-18T22:26:48.102212Z",
     "start_time": "2022-01-18T22:26:48.059214Z"
    }
   },
   "outputs": [
    {
     "data": {
      "text/plain": [
       "[((75, 224, 224, 3), (75, 1), array([0])),\n",
       " ((75, 224, 224, 3), (75, 1), array([1]))]"
      ]
     },
     "execution_count": 8,
     "metadata": {},
     "output_type": "execute_result"
    }
   ],
   "source": [
    "[(data.shape, label.shape, label[0]) for data, label in [(data1, label1), (data2, label2)]]"
   ]
  },
  {
   "cell_type": "code",
   "execution_count": 9,
   "metadata": {
    "ExecuteTime": {
     "end_time": "2022-01-18T22:26:48.166212Z",
     "start_time": "2022-01-18T22:26:48.106211Z"
    }
   },
   "outputs": [
    {
     "data": {
      "text/plain": [
       "[(126, 224, 224, 3), (126, 1), (24, 224, 224, 3), (24, 1)]"
      ]
     },
     "execution_count": 9,
     "metadata": {},
     "output_type": "execute_result"
    }
   ],
   "source": [
    "# split data equally\n",
    "splits = [train_test_split(\n",
    "    data, label, test_size=TEST_SIZE, random_state=42) \n",
    "          for data, label in [(data1, label1), (data2, label2)]]\n",
    "X_train, X_test, y_train, y_test = [np.vstack(phase) for phase in zip(*splits)]\n",
    "[arr.shape for arr in [X_train, y_train, X_test, y_test]]"
   ]
  },
  {
   "cell_type": "markdown",
   "metadata": {},
   "source": [
    "# Justification for PCA"
   ]
  },
  {
   "cell_type": "code",
   "execution_count": 10,
   "metadata": {
    "ExecuteTime": {
     "end_time": "2022-01-18T22:26:58.241209Z",
     "start_time": "2022-01-18T22:26:48.172221Z"
    }
   },
   "outputs": [
    {
     "data": {
      "text/plain": [
       "PCA(n_components=126)"
      ]
     },
     "execution_count": 10,
     "metadata": {},
     "output_type": "execute_result"
    }
   ],
   "source": [
    "full_pca = PCA(n_components=len(X_train))\n",
    "full_pca.fit(X_train.reshape(len(X_train),-1))"
   ]
  },
  {
   "cell_type": "code",
   "execution_count": 11,
   "metadata": {
    "ExecuteTime": {
     "end_time": "2022-01-18T22:26:58.571209Z",
     "start_time": "2022-01-18T22:26:58.245213Z"
    }
   },
   "outputs": [
    {
     "data": {
      "text/plain": [
       "[<matplotlib.lines.Line2D at 0x29c1dd85bb0>]"
      ]
     },
     "execution_count": 11,
     "metadata": {},
     "output_type": "execute_result"
    },
    {
     "data": {
      "image/png": "[encoded data removed]",
      "text/plain": [
       "<Figure size 432x288 with 1 Axes>"
      ]
     },
     "metadata": {
      "needs_background": "light"
     },
     "output_type": "display_data"
    }
   ],
   "source": [
    "plt.plot(full_pca.explained_variance_ratio_)"
   ]
  },
  {
   "cell_type": "markdown",
   "metadata": {
    "ExecuteTime": {
     "end_time": "2022-01-18T08:39:23.857823Z",
     "start_time": "2022-01-18T08:39:23.839826Z"
    }
   },
   "source": [
    "# Model"
   ]
  },
  {
   "cell_type": "code",
   "execution_count": 12,
   "metadata": {
    "ExecuteTime": {
     "end_time": "2022-01-18T22:26:58.634210Z",
     "start_time": "2022-01-18T22:26:58.575214Z"
    }
   },
   "outputs": [
    {
     "data": {
      "text/plain": [
       "GridSearchCV(cv=6,\n",
       "             estimator=Pipeline(steps=[('flat',\n",
       "                                        FunctionTransformer(func=<function flat_image at 0x0000029C1DD8E940>,\n",
       "                                                            inverse_func=<function inverse_flat_image at 0x0000029C1B1B4040>)),\n",
       "                                       ('scaler', StandardScaler()),\n",
       "                                       ('pca', PCA()),\n",
       "                                       ('log_reg', LogisticRegression())]),\n",
       "             param_grid={'log_reg__C': array([1.e-05, 1.e-02, 1.e+01]),\n",
       "                         'pca__n_components': array([ 4, 18, 79])},\n",
       "             verbose=3)"
      ]
     },
     "execution_count": 12,
     "metadata": {},
     "output_type": "execute_result"
    }
   ],
   "source": [
    "from sklearn.preprocessing import FunctionTransformer\n",
    "from sklearn.pipeline import Pipeline\n",
    "from sklearn.model_selection import GridSearchCV\n",
    "\n",
    "# Define a Transformer that flats the images\n",
    "def flat_image(x):\n",
    "    return x.reshape(len(x),-1)\n",
    "\n",
    "def inverse_flat_image(x, height=IMG_SIZE, width=IMG_SIZE, channels=3):\n",
    "    return x.reshape(len(x), height, width, channels)\n",
    "\n",
    "flat_transformer = FunctionTransformer(flat_image, inverse_flat_image)\n",
    "\n",
    "# Define a pipeline to search for the best combination of PCA truncation\n",
    "# and classifier regularization.\n",
    "pca = PCA()\n",
    "\n",
    "# Define a Standard Scaler to normalize inputs\n",
    "scaler = StandardScaler()\n",
    "\n",
    "log_reg = LogisticRegression(random_state=42)\n",
    "\n",
    "pipe = Pipeline(steps=[(\"flat\", flat_transformer), \n",
    "                       (\"scaler\", scaler), \n",
    "                       (\"pca\", pca), \n",
    "                       (\"log_reg\", log_reg)\n",
    "                      ])\n",
    "\n",
    "K_FOLDS = 6\n",
    "param_grid = {\n",
    "    \"pca__n_components\": np.ceil(np.logspace(\n",
    "        start=2, stop=np.log2(len(X_train) * (K_FOLDS-1)/K_FOLDS * .75), base=2, num=3)).astype(int),\n",
    "    \"log_reg__C\": np.logspace(start=-5, stop=1, base=10, num=3),\n",
    "}\n",
    "\n",
    "search = GridSearchCV(pipe, param_grid, cv=K_FOLDS, verbose=3) # scoring=\"accuracy\"\n",
    "search"
   ]
  },
  {
   "cell_type": "code",
   "execution_count": 13,
   "metadata": {
    "ExecuteTime": {
     "end_time": "2022-01-18T22:30:54.286059Z",
     "start_time": "2022-01-18T22:26:58.642212Z"
    }
   },
   "outputs": [
    {
     "name": "stdout",
     "output_type": "stream",
     "text": [
      "Fitting 6 folds for each of 9 candidates, totalling 54 fits\n",
      "[CV 1/6] END log_reg__C=1e-05, pca__n_components=4;, score=0.810 total time=   2.5s\n",
      "[CV 2/6] END log_reg__C=1e-05, pca__n_components=4;, score=0.762 total time=   2.8s\n",
      "[CV 3/6] END log_reg__C=1e-05, pca__n_components=4;, score=0.762 total time=   3.0s\n",
      "[CV 4/6] END log_reg__C=1e-05, pca__n_components=4;, score=0.810 total time=   2.5s\n",
      "[CV 5/6] END log_reg__C=1e-05, pca__n_components=4;, score=0.810 total time=   2.3s\n",
      "[CV 6/6] END log_reg__C=1e-05, pca__n_components=4;, score=0.810 total time=   2.2s\n",
      "[CV 1/6] END log_reg__C=1e-05, pca__n_components=18;, score=0.762 total time=   2.9s\n",
      "[CV 2/6] END log_reg__C=1e-05, pca__n_components=18;, score=0.905 total time=   2.5s\n",
      "[CV 3/6] END log_reg__C=1e-05, pca__n_components=18;, score=0.714 total time=   2.6s\n",
      "[CV 4/6] END log_reg__C=1e-05, pca__n_components=18;, score=0.952 total time=   2.5s\n",
      "[CV 5/6] END log_reg__C=1e-05, pca__n_components=18;, score=1.000 total time=   2.9s\n",
      "[CV 6/6] END log_reg__C=1e-05, pca__n_components=18;, score=0.810 total time=   2.5s\n",
      "[CV 1/6] END log_reg__C=1e-05, pca__n_components=79;, score=0.857 total time=   7.7s\n",
      "[CV 2/6] END log_reg__C=1e-05, pca__n_components=79;, score=0.857 total time=   5.8s\n",
      "[CV 3/6] END log_reg__C=1e-05, pca__n_components=79;, score=0.714 total time=   5.7s\n",
      "[CV 4/6] END log_reg__C=1e-05, pca__n_components=79;, score=0.952 total time=   6.0s\n",
      "[CV 5/6] END log_reg__C=1e-05, pca__n_components=79;, score=1.000 total time=   6.1s\n",
      "[CV 6/6] END log_reg__C=1e-05, pca__n_components=79;, score=0.810 total time=   7.3s\n",
      "[CV 1/6] END log_reg__C=0.01, pca__n_components=4;, score=0.810 total time=   2.3s\n",
      "[CV 2/6] END log_reg__C=0.01, pca__n_components=4;, score=0.762 total time=   2.4s\n",
      "[CV 3/6] END log_reg__C=0.01, pca__n_components=4;, score=0.762 total time=   2.5s\n",
      "[CV 4/6] END log_reg__C=0.01, pca__n_components=4;, score=0.810 total time=   2.9s\n",
      "[CV 5/6] END log_reg__C=0.01, pca__n_components=4;, score=0.857 total time=   2.6s\n",
      "[CV 6/6] END log_reg__C=0.01, pca__n_components=4;, score=0.810 total time=   2.9s\n",
      "[CV 1/6] END log_reg__C=0.01, pca__n_components=18;, score=0.810 total time=   2.8s\n",
      "[CV 2/6] END log_reg__C=0.01, pca__n_components=18;, score=0.952 total time=   3.2s\n",
      "[CV 3/6] END log_reg__C=0.01, pca__n_components=18;, score=0.857 total time=   2.6s\n",
      "[CV 4/6] END log_reg__C=0.01, pca__n_components=18;, score=0.857 total time=   2.5s\n",
      "[CV 5/6] END log_reg__C=0.01, pca__n_components=18;, score=0.952 total time=   2.5s\n"
     ]
    },
    {
     "name": "stderr",
     "output_type": "stream",
     "text": [
      "c:\\users\\yuvfr\\appdata\\local\\programs\\python\\python38\\lib\\site-packages\\sklearn\\linear_model\\_logistic.py:814: ConvergenceWarning: lbfgs failed to converge (status=1):\n",
      "STOP: TOTAL NO. of ITERATIONS REACHED LIMIT.\n",
      "\n",
      "Increase the number of iterations (max_iter) or scale the data as shown in:\n",
      "    https://scikit-learn.org/stable/modules/preprocessing.html\n",
      "Please also refer to the documentation for alternative solver options:\n",
      "    https://scikit-learn.org/stable/modules/linear_model.html#logistic-regression\n",
      "  n_iter_i = _check_optimize_result(\n"
     ]
    },
    {
     "name": "stdout",
     "output_type": "stream",
     "text": [
      "[CV 6/6] END log_reg__C=0.01, pca__n_components=18;, score=0.810 total time=   2.8s\n",
      "[CV 1/6] END log_reg__C=0.01, pca__n_components=79;, score=0.810 total time=   7.2s\n",
      "[CV 2/6] END log_reg__C=0.01, pca__n_components=79;, score=0.762 total time=   8.8s\n",
      "[CV 3/6] END log_reg__C=0.01, pca__n_components=79;, score=0.905 total time=   7.5s\n",
      "[CV 4/6] END log_reg__C=0.01, pca__n_components=79;, score=0.857 total time=   6.9s\n",
      "[CV 5/6] END log_reg__C=0.01, pca__n_components=79;, score=0.952 total time=   6.7s\n",
      "[CV 6/6] END log_reg__C=0.01, pca__n_components=79;, score=0.762 total time=   6.6s\n",
      "[CV 1/6] END log_reg__C=10.0, pca__n_components=4;, score=0.810 total time=   2.0s\n",
      "[CV 2/6] END log_reg__C=10.0, pca__n_components=4;, score=0.762 total time=   1.9s\n",
      "[CV 3/6] END log_reg__C=10.0, pca__n_components=4;, score=0.714 total time=   1.8s\n",
      "[CV 4/6] END log_reg__C=10.0, pca__n_components=4;, score=0.810 total time=   1.8s\n",
      "[CV 5/6] END log_reg__C=10.0, pca__n_components=4;, score=0.857 total time=   1.7s\n",
      "[CV 6/6] END log_reg__C=10.0, pca__n_components=4;, score=0.810 total time=   2.2s\n",
      "[CV 1/6] END log_reg__C=10.0, pca__n_components=18;, score=0.857 total time=   2.4s\n"
     ]
    },
    {
     "name": "stderr",
     "output_type": "stream",
     "text": [
      "c:\\users\\yuvfr\\appdata\\local\\programs\\python\\python38\\lib\\site-packages\\sklearn\\linear_model\\_logistic.py:814: ConvergenceWarning: lbfgs failed to converge (status=1):\n",
      "STOP: TOTAL NO. of ITERATIONS REACHED LIMIT.\n",
      "\n",
      "Increase the number of iterations (max_iter) or scale the data as shown in:\n",
      "    https://scikit-learn.org/stable/modules/preprocessing.html\n",
      "Please also refer to the documentation for alternative solver options:\n",
      "    https://scikit-learn.org/stable/modules/linear_model.html#logistic-regression\n",
      "  n_iter_i = _check_optimize_result(\n"
     ]
    },
    {
     "name": "stdout",
     "output_type": "stream",
     "text": [
      "[CV 2/6] END log_reg__C=10.0, pca__n_components=18;, score=0.952 total time=   2.1s\n",
      "[CV 3/6] END log_reg__C=10.0, pca__n_components=18;, score=0.762 total time=   2.2s\n"
     ]
    },
    {
     "name": "stderr",
     "output_type": "stream",
     "text": [
      "c:\\users\\yuvfr\\appdata\\local\\programs\\python\\python38\\lib\\site-packages\\sklearn\\linear_model\\_logistic.py:814: ConvergenceWarning: lbfgs failed to converge (status=1):\n",
      "STOP: TOTAL NO. of ITERATIONS REACHED LIMIT.\n",
      "\n",
      "Increase the number of iterations (max_iter) or scale the data as shown in:\n",
      "    https://scikit-learn.org/stable/modules/preprocessing.html\n",
      "Please also refer to the documentation for alternative solver options:\n",
      "    https://scikit-learn.org/stable/modules/linear_model.html#logistic-regression\n",
      "  n_iter_i = _check_optimize_result(\n"
     ]
    },
    {
     "name": "stdout",
     "output_type": "stream",
     "text": [
      "[CV 4/6] END log_reg__C=10.0, pca__n_components=18;, score=0.857 total time=   2.5s\n"
     ]
    },
    {
     "name": "stderr",
     "output_type": "stream",
     "text": [
      "c:\\users\\yuvfr\\appdata\\local\\programs\\python\\python38\\lib\\site-packages\\sklearn\\linear_model\\_logistic.py:814: ConvergenceWarning: lbfgs failed to converge (status=1):\n",
      "STOP: TOTAL NO. of ITERATIONS REACHED LIMIT.\n",
      "\n",
      "Increase the number of iterations (max_iter) or scale the data as shown in:\n",
      "    https://scikit-learn.org/stable/modules/preprocessing.html\n",
      "Please also refer to the documentation for alternative solver options:\n",
      "    https://scikit-learn.org/stable/modules/linear_model.html#logistic-regression\n",
      "  n_iter_i = _check_optimize_result(\n"
     ]
    },
    {
     "name": "stdout",
     "output_type": "stream",
     "text": [
      "[CV 5/6] END log_reg__C=10.0, pca__n_components=18;, score=0.952 total time=   2.6s\n"
     ]
    },
    {
     "name": "stderr",
     "output_type": "stream",
     "text": [
      "c:\\users\\yuvfr\\appdata\\local\\programs\\python\\python38\\lib\\site-packages\\sklearn\\linear_model\\_logistic.py:814: ConvergenceWarning: lbfgs failed to converge (status=1):\n",
      "STOP: TOTAL NO. of ITERATIONS REACHED LIMIT.\n",
      "\n",
      "Increase the number of iterations (max_iter) or scale the data as shown in:\n",
      "    https://scikit-learn.org/stable/modules/preprocessing.html\n",
      "Please also refer to the documentation for alternative solver options:\n",
      "    https://scikit-learn.org/stable/modules/linear_model.html#logistic-regression\n",
      "  n_iter_i = _check_optimize_result(\n"
     ]
    },
    {
     "name": "stdout",
     "output_type": "stream",
     "text": [
      "[CV 6/6] END log_reg__C=10.0, pca__n_components=18;, score=0.810 total time=   2.7s\n",
      "[CV 1/6] END log_reg__C=10.0, pca__n_components=79;, score=0.810 total time=   8.5s\n",
      "[CV 2/6] END log_reg__C=10.0, pca__n_components=79;, score=0.857 total time=   8.7s\n"
     ]
    },
    {
     "name": "stderr",
     "output_type": "stream",
     "text": [
      "c:\\users\\yuvfr\\appdata\\local\\programs\\python\\python38\\lib\\site-packages\\sklearn\\linear_model\\_logistic.py:814: ConvergenceWarning: lbfgs failed to converge (status=1):\n",
      "STOP: TOTAL NO. of ITERATIONS REACHED LIMIT.\n",
      "\n",
      "Increase the number of iterations (max_iter) or scale the data as shown in:\n",
      "    https://scikit-learn.org/stable/modules/preprocessing.html\n",
      "Please also refer to the documentation for alternative solver options:\n",
      "    https://scikit-learn.org/stable/modules/linear_model.html#logistic-regression\n",
      "  n_iter_i = _check_optimize_result(\n"
     ]
    },
    {
     "name": "stdout",
     "output_type": "stream",
     "text": [
      "[CV 3/6] END log_reg__C=10.0, pca__n_components=79;, score=0.905 total time=  10.4s\n"
     ]
    },
    {
     "name": "stderr",
     "output_type": "stream",
     "text": [
      "c:\\users\\yuvfr\\appdata\\local\\programs\\python\\python38\\lib\\site-packages\\sklearn\\linear_model\\_logistic.py:814: ConvergenceWarning: lbfgs failed to converge (status=1):\n",
      "STOP: TOTAL NO. of ITERATIONS REACHED LIMIT.\n",
      "\n",
      "Increase the number of iterations (max_iter) or scale the data as shown in:\n",
      "    https://scikit-learn.org/stable/modules/preprocessing.html\n",
      "Please also refer to the documentation for alternative solver options:\n",
      "    https://scikit-learn.org/stable/modules/linear_model.html#logistic-regression\n",
      "  n_iter_i = _check_optimize_result(\n"
     ]
    },
    {
     "name": "stdout",
     "output_type": "stream",
     "text": [
      "[CV 4/6] END log_reg__C=10.0, pca__n_components=79;, score=0.905 total time=  11.1s\n",
      "[CV 5/6] END log_reg__C=10.0, pca__n_components=79;, score=0.952 total time=   8.2s\n",
      "[CV 6/6] END log_reg__C=10.0, pca__n_components=79;, score=0.762 total time=   8.1s\n",
      "Best Hyperparameters: {'log_reg__C': 0.01, 'pca__n_components': 18}\n",
      "Best CV Accuracy: 0.8730\n"
     ]
    }
   ],
   "source": [
    "search.fit(X_train, y_train.reshape(-1,))\n",
    "print(f\"Best Hyperparameters: {search.best_params_}\")\n",
    "print(f\"Best CV Accuracy: {search.best_score_:.4f}\")"
   ]
  },
  {
   "cell_type": "code",
   "execution_count": 14,
   "metadata": {
    "ExecuteTime": {
     "end_time": "2022-01-18T22:35:17.371851Z",
     "start_time": "2022-01-18T22:35:17.352871Z"
    }
   },
   "outputs": [],
   "source": [
    "from sklearn.metrics import classification_report\n",
    "\n",
    "def evaluate(model, X, y, title):\n",
    "    preds = model.predict(X).reshape(-1,1)\n",
    "    print(title,'\\n',classification_report(y, preds))"
   ]
  },
  {
   "cell_type": "code",
   "execution_count": 15,
   "metadata": {
    "ExecuteTime": {
     "end_time": "2022-01-18T22:35:18.240719Z",
     "start_time": "2022-01-18T22:35:17.862495Z"
    }
   },
   "outputs": [
    {
     "name": "stdout",
     "output_type": "stream",
     "text": [
      "train \n",
      "               precision    recall  f1-score   support\n",
      "\n",
      "           0       0.98      0.97      0.98        63\n",
      "           1       0.97      0.98      0.98        63\n",
      "\n",
      "    accuracy                           0.98       126\n",
      "   macro avg       0.98      0.98      0.98       126\n",
      "weighted avg       0.98      0.98      0.98       126\n",
      "\n",
      "test \n",
      "               precision    recall  f1-score   support\n",
      "\n",
      "           0       0.90      0.75      0.82        12\n",
      "           1       0.79      0.92      0.85        12\n",
      "\n",
      "    accuracy                           0.83        24\n",
      "   macro avg       0.84      0.83      0.83        24\n",
      "weighted avg       0.84      0.83      0.83        24\n",
      "\n"
     ]
    }
   ],
   "source": [
    "evaluate(search, X_train, y_train, \"train\")\n",
    "evaluate(search, X_test, y_test, \"test\")"
   ]
  },
  {
   "cell_type": "code",
   "execution_count": 17,
   "metadata": {
    "ExecuteTime": {
     "end_time": "2022-01-18T22:39:46.985168Z",
     "start_time": "2022-01-18T22:38:25.963788Z"
    }
   },
   "outputs": [
    {
     "name": "stderr",
     "output_type": "stream",
     "text": [
      "Failed to detect the name of this notebook, you can set it manually with the WANDB_NOTEBOOK_NAME environment variable to enable code saving.\n",
      "wandb: Currently logged in as: yuvfried (use `wandb login --relogin` to force relogin)\n"
     ]
    },
    {
     "data": {
      "text/html": [
       "\n",
       "                    Syncing run <strong><a href=\"https://wandb.ai/yuvfried/swedish-leaf-classification/runs/13yee8cn\" target=\"_blank\">baseline_1_3</a></strong> to <a href=\"https://wandb.ai/yuvfried/swedish-leaf-classification\" target=\"_blank\">Weights & Biases</a> (<a href=\"https://docs.wandb.com/integrations/jupyter.html\" target=\"_blank\">docs</a>).<br/>\n",
       "\n",
       "                "
      ],
      "text/plain": [
       "<IPython.core.display.HTML object>"
      ]
     },
     "metadata": {},
     "output_type": "display_data"
    },
    {
     "name": "stdout",
     "output_type": "stream",
     "text": [
      "Test Accuracy: 0.8333\n"
     ]
    },
    {
     "data": {
      "text/html": [
       "<br/>Waiting for W&B process to finish, PID 15048... <strong style=\"color:green\">(success).</strong>"
      ],
      "text/plain": [
       "<IPython.core.display.HTML object>"
      ]
     },
     "metadata": {},
     "output_type": "display_data"
    },
    {
     "data": {
      "application/vnd.jupyter.widget-view+json": {
       "model_id": "",
       "version_major": 2,
       "version_minor": 0
      },
      "text/plain": [
       "VBox(children=(Label(value=' 0.00MB of 0.00MB uploaded (0.00MB deduped)\\r'), FloatProgress(value=1.0, max=1.0)…"
      ]
     },
     "metadata": {},
     "output_type": "display_data"
    },
    {
     "data": {
      "text/html": [
       "<style>\n",
       "    table.wandb td:nth-child(1) { padding: 0 10px; text-align: right }\n",
       "    .wandb-row { display: flex; flex-direction: row; flex-wrap: wrap; width: 100% }\n",
       "    .wandb-col { display: flex; flex-direction: column; flex-basis: 100%; flex: 1; padding: 10px; }\n",
       "    </style>\n",
       "<div class=\"wandb-row\"><div class=\"wandb-col\">\n",
       "<h3>Run history:</h3><br/><table class=\"wandb\"><tr><td>test_acc</td><td>▁</td></tr></table><br/></div><div class=\"wandb-col\">\n",
       "<h3>Run summary:</h3><br/><table class=\"wandb\"><tr><td>test_acc</td><td>0.83333</td></tr></table>\n",
       "</div></div>\n",
       "Synced 6 W&B file(s), 0 media file(s), 0 artifact file(s) and 1 other file(s)\n",
       "<br/>Synced <strong style=\"color:#cdcd00\">baseline_1_3</strong>: <a href=\"https://wandb.ai/yuvfried/swedish-leaf-classification/runs/13yee8cn\" target=\"_blank\">https://wandb.ai/yuvfried/swedish-leaf-classification/runs/13yee8cn</a><br/>\n",
       "Find logs at: <code>.\\wandb\\run-20220119_003831-13yee8cn\\logs</code><br/>\n"
      ],
      "text/plain": [
       "<IPython.core.display.HTML object>"
      ]
     },
     "metadata": {},
     "output_type": "display_data"
    }
   ],
   "source": [
    "import wandb\n",
    "\n",
    "wandb.init(project=\"swedish-leaf-classification\", group=\"baseline\",\n",
    "           entity=\"yuvfried\", job_type=\"notebook\", name=\"baseline_1_3\",\n",
    "           resume=\"allow\", mode=\"online\")\n",
    "\n",
    "preds = search.predict(X_test).reshape(-1,1)\n",
    "test_acc = np.mean(y_test == preds)\n",
    "print(f\"Test Accuracy: {test_acc:.4f}\")\n",
    "\n",
    "wandb.log({\"test_acc\":test_acc})\n",
    "wandb.finish()"
   ]
  }
 ],
 "metadata": {
  "kernelspec": {
   "display_name": "Python 3",
   "language": "python",
   "name": "python3"
  },
  "language_info": {
   "codemirror_mode": {
    "name": "ipython",
    "version": 3
   },
   "file_extension": ".py",
   "mimetype": "text/x-python",
   "name": "python",
   "nbconvert_exporter": "python",
   "pygments_lexer": "ipython3",
   "version": "3.8.5"
  },
  "toc": {
   "base_numbering": 1,
   "nav_menu": {},
   "number_sections": true,
   "sideBar": true,
   "skip_h1_title": false,
   "title_cell": "Table of Contents",
   "title_sidebar": "Contents",
   "toc_cell": false,
   "toc_position": {},
   "toc_section_display": true,
   "toc_window_display": false
  }
 },
 "nbformat": 4,
 "nbformat_minor": 4
}
