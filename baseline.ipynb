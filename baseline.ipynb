{
 "cells": [
  {
   "cell_type": "code",
   "execution_count": 1,
   "metadata": {
    "ExecuteTime": {
     "end_time": "2022-01-18T09:08:34.569620Z",
     "start_time": "2022-01-18T09:08:31.648620Z"
    }
   },
   "outputs": [],
   "source": [
    "import pandas as pd\n",
    "import numpy as np\n",
    "import os\n",
    "import matplotlib.pyplot as plt\n",
    "import cv2 as cv\n",
    "\n",
    "from sklearn.model_selection import train_test_split\n",
    "from sklearn.decomposition import PCA\n",
    "\n",
    "from sklearn.preprocessing import StandardScaler\n",
    "from sklearn.linear_model import LogisticRegression\n",
    "from sklearn.model_selection import KFold, cross_val_score, cross_validate\n",
    "from sklearn.metrics import multilabel_confusion_matrix, ConfusionMatrixDisplay"
   ]
  },
  {
   "cell_type": "code",
   "execution_count": 2,
   "metadata": {
    "ExecuteTime": {
     "end_time": "2022-01-18T09:08:34.585623Z",
     "start_time": "2022-01-18T09:08:34.574620Z"
    }
   },
   "outputs": [],
   "source": [
    "DATAPATH = r\"C:\\Users\\yuvfr\\proj_university\\swedish-leaf-classification\\swedish-leaf-dataset\""
   ]
  },
  {
   "cell_type": "code",
   "execution_count": 3,
   "metadata": {
    "ExecuteTime": {
     "end_time": "2022-01-18T09:08:34.633618Z",
     "start_time": "2022-01-18T09:08:34.590625Z"
    }
   },
   "outputs": [],
   "source": [
    "IMG_SIZE = 224\n",
    "LEAF_CLASSES = (9, 10)\n",
    "leaf1, leaf2 = LEAF_CLASSES"
   ]
  },
  {
   "cell_type": "code",
   "execution_count": 4,
   "metadata": {
    "ExecuteTime": {
     "end_time": "2022-01-18T09:08:34.951628Z",
     "start_time": "2022-01-18T09:08:34.643622Z"
    }
   },
   "outputs": [],
   "source": [
    "def load_image(filename, height=IMG_SIZE, width=IMG_SIZE):\n",
    "    img = cv.imread(filename, cv.IMREAD_COLOR)\n",
    "    img = cv.cvtColor(img, cv.COLOR_BGR2RGB)\n",
    "    img = cv.resize(img, (height, width))\n",
    "    return img"
   ]
  },
  {
   "cell_type": "code",
   "execution_count": 5,
   "metadata": {
    "ExecuteTime": {
     "end_time": "2022-01-18T09:08:34.996619Z",
     "start_time": "2022-01-18T09:08:34.960621Z"
    }
   },
   "outputs": [],
   "source": [
    "def load_leaf_data(leaf, label):\n",
    "    leaf_path = os.path.join(DATAPATH,f\"leaf{leaf}\")\n",
    "    leaf_imgs_list = []\n",
    "\n",
    "    for img_fname in os.listdir(leaf_path):\n",
    "        leaf_imgs_list.append(load_image(os.path.join(leaf_path, img_fname)))\n",
    "    \n",
    "    data = np.stack(leaf_imgs_list)\n",
    "    label_arr = np.repeat(label, len(leaf_imgs_list)).reshape(-1,1)\n",
    "    return data, label_arr\n",
    "    "
   ]
  },
  {
   "cell_type": "code",
   "execution_count": 6,
   "metadata": {
    "ExecuteTime": {
     "end_time": "2022-01-18T09:08:41.875617Z",
     "start_time": "2022-01-18T09:08:35.000620Z"
    }
   },
   "outputs": [],
   "source": [
    "data1, label1 = load_leaf_data(leaf1, 0)\n",
    "data2, label2 = load_leaf_data(leaf2, 1)"
   ]
  },
  {
   "cell_type": "code",
   "execution_count": 7,
   "metadata": {
    "ExecuteTime": {
     "end_time": "2022-01-18T09:08:41.891621Z",
     "start_time": "2022-01-18T09:08:41.879622Z"
    }
   },
   "outputs": [],
   "source": [
    "TEST_SIZE = 0.15"
   ]
  },
  {
   "cell_type": "code",
   "execution_count": 8,
   "metadata": {
    "ExecuteTime": {
     "end_time": "2022-01-18T09:08:41.939621Z",
     "start_time": "2022-01-18T09:08:41.897623Z"
    }
   },
   "outputs": [
    {
     "data": {
      "text/plain": [
       "[((75, 224, 224, 3), (75, 1), array([0])),\n",
       " ((75, 224, 224, 3), (75, 1), array([1]))]"
      ]
     },
     "execution_count": 8,
     "metadata": {},
     "output_type": "execute_result"
    }
   ],
   "source": [
    "[(data.shape, label.shape, label[0]) for data, label in [(data1, label1), (data2, label2)]]"
   ]
  },
  {
   "cell_type": "code",
   "execution_count": 9,
   "metadata": {
    "ExecuteTime": {
     "end_time": "2022-01-18T09:08:41.987622Z",
     "start_time": "2022-01-18T09:08:41.943624Z"
    }
   },
   "outputs": [
    {
     "data": {
      "text/plain": [
       "[(126, 224, 224, 3), (126, 1), (24, 224, 224, 3), (24, 1)]"
      ]
     },
     "execution_count": 9,
     "metadata": {},
     "output_type": "execute_result"
    }
   ],
   "source": [
    "# split data equally\n",
    "splits = [train_test_split(\n",
    "    data, label, test_size=TEST_SIZE, random_state=42) \n",
    "          for data, label in [(data1, label1), (data2, label2)]]\n",
    "X_train, X_test, y_train, y_test = [np.vstack(phase) for phase in zip(*splits)]\n",
    "[arr.shape for arr in [X_train, y_train, X_test, y_test]]"
   ]
  },
  {
   "cell_type": "markdown",
   "metadata": {},
   "source": [
    "# Justification for PCA"
   ]
  },
  {
   "cell_type": "code",
   "execution_count": 11,
   "metadata": {
    "ExecuteTime": {
     "end_time": "2022-01-18T09:08:53.600626Z",
     "start_time": "2022-01-18T09:08:42.009622Z"
    }
   },
   "outputs": [
    {
     "data": {
      "text/plain": [
       "PCA(n_components=126)"
      ]
     },
     "execution_count": 11,
     "metadata": {},
     "output_type": "execute_result"
    }
   ],
   "source": [
    "full_pca = PCA(n_components=len(X_train))\n",
    "full_pca.fit(X_train.reshape(len(X_train),-1))"
   ]
  },
  {
   "cell_type": "code",
   "execution_count": 12,
   "metadata": {
    "ExecuteTime": {
     "end_time": "2022-01-18T09:08:54.059618Z",
     "start_time": "2022-01-18T09:08:53.603623Z"
    }
   },
   "outputs": [
    {
     "data": {
      "text/plain": [
       "[<matplotlib.lines.Line2D at 0x1e26be18d30>]"
      ]
     },
     "execution_count": 12,
     "metadata": {},
     "output_type": "execute_result"
    },
    {
     "data": {
      "image/png": "[encoded data removed]",
      "text/plain": [
       "<Figure size 432x288 with 1 Axes>"
      ]
     },
     "metadata": {
      "needs_background": "light"
     },
     "output_type": "display_data"
    }
   ],
   "source": [
    "plt.plot(full_pca.explained_variance_ratio_)"
   ]
  },
  {
   "cell_type": "markdown",
   "metadata": {
    "ExecuteTime": {
     "end_time": "2022-01-18T08:39:23.857823Z",
     "start_time": "2022-01-18T08:39:23.839826Z"
    }
   },
   "source": [
    "# Model"
   ]
  },
  {
   "cell_type": "code",
   "execution_count": 13,
   "metadata": {
    "ExecuteTime": {
     "end_time": "2022-01-18T09:18:45.002603Z",
     "start_time": "2022-01-18T09:08:54.063622Z"
    }
   },
   "outputs": [
    {
     "name": "stdout",
     "output_type": "stream",
     "text": [
      "Best Hyperparameters: {'log_reg__C': 0.0001, 'pca__n_components': 4}\n",
      "Best CV Accuracy: 1.0000\n"
     ]
    }
   ],
   "source": [
    "from sklearn.preprocessing import FunctionTransformer\n",
    "from sklearn.pipeline import Pipeline\n",
    "from sklearn.model_selection import GridSearchCV\n",
    "\n",
    "# Define a Transformer that flats the images\n",
    "def flat_image(x):\n",
    "    return x.reshape(len(x),-1)\n",
    "\n",
    "def inverse_flat_image(x, height=IMG_SIZE, width=IMG_SIZE, channels=3):\n",
    "    return x.reshape(len(x), height, width, channels)\n",
    "\n",
    "flat_transformer = FunctionTransformer(flat_image, inverse_flat_image)\n",
    "\n",
    "# Define a pipeline to search for the best combination of PCA truncation\n",
    "# and classifier regularization.\n",
    "pca = PCA()\n",
    "\n",
    "# Define a Standard Scaler to normalize inputs\n",
    "scaler = StandardScaler()\n",
    "\n",
    "log_reg = LogisticRegression(max_iter=10000)\n",
    "\n",
    "pipe = Pipeline(steps=[(\"flat\", flat_transformer), \n",
    "                       (\"scaler\", scaler), \n",
    "                       (\"pca\", pca), \n",
    "                       (\"log_reg\", log_reg)\n",
    "                      ])\n",
    "\n",
    "K_FOLDS = 6\n",
    "param_grid = {\n",
    "    \"pca__n_components\": np.ceil(np.logspace(\n",
    "        start=2, stop=np.log2(len(X_train)*(K_FOLDS-1)/K_FOLDS),base=2, num=5)).astype(int),\n",
    "    \"log_reg__C\": np.logspace(start=-4, stop=4, base=10, num=5),\n",
    "}\n",
    "\n",
    "search = GridSearchCV(pipe, param_grid, cv=K_FOLDS) # scoring=\"accuracy\"\n",
    "search.fit(X_train, y_train.reshape(-1,))\n",
    "print(f\"Best Hyperparameters: {search.best_params_}\")\n",
    "print(f\"Best CV Accuracy: {search.best_score_:.4f}\")"
   ]
  },
  {
   "cell_type": "code",
   "execution_count": 16,
   "metadata": {
    "ExecuteTime": {
     "end_time": "2022-01-18T11:03:11.860305Z",
     "start_time": "2022-01-18T11:02:45.552469Z"
    }
   },
   "outputs": [
    {
     "name": "stderr",
     "output_type": "stream",
     "text": [
      "Failed to detect the name of this notebook, you can set it manually with the WANDB_NOTEBOOK_NAME environment variable to enable code saving.\n",
      "wandb: Currently logged in as: yuvfried (use `wandb login --relogin` to force relogin)\n"
     ]
    },
    {
     "data": {
      "text/html": [
       "\n",
       "                    Syncing run <strong><a href=\"https://wandb.ai/yuvfried/swedish-leaf-classification/runs/isx7dklu\" target=\"_blank\">poc_baseline</a></strong> to <a href=\"https://wandb.ai/yuvfried/swedish-leaf-classification\" target=\"_blank\">Weights & Biases</a> (<a href=\"https://docs.wandb.com/integrations/jupyter.html\" target=\"_blank\">docs</a>).<br/>\n",
       "\n",
       "                "
      ],
      "text/plain": [
       "<IPython.core.display.HTML object>"
      ]
     },
     "metadata": {},
     "output_type": "display_data"
    },
    {
     "name": "stdout",
     "output_type": "stream",
     "text": [
      "Test Accuracy: 1.0000\n"
     ]
    },
    {
     "data": {
      "text/html": [
       "<br/>Waiting for W&B process to finish, PID 10136... <strong style=\"color:green\">(success).</strong>"
      ],
      "text/plain": [
       "<IPython.core.display.HTML object>"
      ]
     },
     "metadata": {},
     "output_type": "display_data"
    },
    {
     "data": {
      "application/vnd.jupyter.widget-view+json": {
       "model_id": "",
       "version_major": 2,
       "version_minor": 0
      },
      "text/plain": [
       "VBox(children=(Label(value=' 0.00MB of 0.00MB uploaded (0.00MB deduped)\\r'), FloatProgress(value=1.0, max=1.0)…"
      ]
     },
     "metadata": {},
     "output_type": "display_data"
    },
    {
     "data": {
      "text/html": [
       "<style>\n",
       "    table.wandb td:nth-child(1) { padding: 0 10px; text-align: right }\n",
       "    .wandb-row { display: flex; flex-direction: row; flex-wrap: wrap; width: 100% }\n",
       "    .wandb-col { display: flex; flex-direction: column; flex-basis: 100%; flex: 1; padding: 10px; }\n",
       "    </style>\n",
       "<div class=\"wandb-row\"><div class=\"wandb-col\">\n",
       "<h3>Run history:</h3><br/><table class=\"wandb\"><tr><td>test_acc</td><td>▁</td></tr></table><br/></div><div class=\"wandb-col\">\n",
       "<h3>Run summary:</h3><br/><table class=\"wandb\"><tr><td>test_acc</td><td>1.0</td></tr></table>\n",
       "</div></div>\n",
       "Synced 6 W&B file(s), 0 media file(s), 0 artifact file(s) and 1 other file(s)\n",
       "<br/>Synced <strong style=\"color:#cdcd00\">poc_baseline</strong>: <a href=\"https://wandb.ai/yuvfried/swedish-leaf-classification/runs/isx7dklu\" target=\"_blank\">https://wandb.ai/yuvfried/swedish-leaf-classification/runs/isx7dklu</a><br/>\n",
       "Find logs at: <code>.\\wandb\\run-20220118_130249-isx7dklu\\logs</code><br/>\n"
      ],
      "text/plain": [
       "<IPython.core.display.HTML object>"
      ]
     },
     "metadata": {},
     "output_type": "display_data"
    }
   ],
   "source": [
    "import wandb\n",
    "\n",
    "wandb.init(project=\"swedish-leaf-classification\", group=\"baseline\",\n",
    "           entity=\"yuvfried\", job_type=\"notebook\", name=\"poc_baseline\",\n",
    "           resume=\"allow\", mode=\"online\")\n",
    "\n",
    "preds = search.predict(X_test).reshape(-1,1)\n",
    "test_acc = (y_test == preds).sum() / len(y_test)\n",
    "print(f\"Test Accuracy: {test_acc:.4f}\")\n",
    "\n",
    "wandb.log({\"test_acc\":test_acc})\n",
    "wandb.finish()"
   ]
  },
  {
   "cell_type": "code",
   "execution_count": null,
   "metadata": {},
   "outputs": [],
   "source": []
  }
 ],
 "metadata": {
  "kernelspec": {
   "display_name": "Python 3",
   "language": "python",
   "name": "python3"
  },
  "language_info": {
   "codemirror_mode": {
    "name": "ipython",
    "version": 3
   },
   "file_extension": ".py",
   "mimetype": "text/x-python",
   "name": "python",
   "nbconvert_exporter": "python",
   "pygments_lexer": "ipython3",
   "version": "3.8.5"
  },
  "toc": {
   "base_numbering": 1,
   "nav_menu": {},
   "number_sections": true,
   "sideBar": true,
   "skip_h1_title": false,
   "title_cell": "Table of Contents",
   "title_sidebar": "Contents",
   "toc_cell": false,
   "toc_position": {},
   "toc_section_display": true,
   "toc_window_display": false
  }
 },
 "nbformat": 4,
 "nbformat_minor": 4
}
